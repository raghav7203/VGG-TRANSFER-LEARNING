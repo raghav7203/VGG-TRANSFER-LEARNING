{
 "cells": [
  {
   "cell_type": "code",
   "execution_count": 1,
   "metadata": {
    "_cell_guid": "b1076dfc-b9ad-4769-8c92-a6c4dae69d19",
    "_uuid": "8f2839f25d086af736a60e9eeb907d3b93b6e0e5",
    "execution": {
     "iopub.execute_input": "2020-10-05T16:52:07.875709Z",
     "iopub.status.busy": "2020-10-05T16:52:07.875034Z",
     "iopub.status.idle": "2020-10-05T16:52:13.011621Z",
     "shell.execute_reply": "2020-10-05T16:52:13.012132Z"
    },
    "papermill": {
     "duration": 5.152436,
     "end_time": "2020-10-05T16:52:13.012285",
     "exception": false,
     "start_time": "2020-10-05T16:52:07.859849",
     "status": "completed"
    },
    "tags": []
   },
   "outputs": [
    {
     "name": "stdout",
     "output_type": "stream",
     "text": [
      "['ब', 'न', 'ई', 'य', 'ण', 'आ', 'ल', 'छ', 'ऋ', 'ष', 'त्र', 'भ', 'च', 'ट', 'त', 'इ', 'ज', 'ह', 'उ', 'म', 'व', 'ढ', 'अ', 'ग', 'प', 'ऊ', 'ऐ', 'ध', 'द', 'ठ', 'ङ', 'क', 'औ', 'थ', 'ए', 'ओ', 'घ', 'श', 'फ', 'ञ', 'ज्ञ', 'झ', 'क्ष', 'ड', 'स', 'र', 'ख']\n"
     ]
    }
   ],
   "source": [
    "# This Python 3 environment comes with many helpful analytics libraries installed\n",
    "# It is defined by the kaggle/python Docker image: https://github.com/kaggle/docker-python\n",
    "# For example, here's several helpful packages to load\n",
    "\n",
    "import numpy as np # linear algebra\n",
    "import pandas as pd # data processing, CSV file I/O (e.g. pd.read_csv)\n",
    "\n",
    "# Input data files are available in the read-only \"../input/\" directory\n",
    "# For example, running this (by clicking run or pressing Shift+Enter) will list all files under the input directory\n",
    "import matplotlib.pyplot as plt\n",
    "import matplotlib.image as img\n",
    "import tensorflow.keras as keras\n",
    "import numpy as np\n",
    "\n",
    "\n",
    "import os\n",
    "print(os.listdir(\"../input/hindiletters/Hindi letters/\"))\n",
    "# You can write up to 5GB to the current directory (/kaggle/working/) that gets preserved as output when you create a version using \"Save & Run All\" \n",
    "# You can also write temporary files to /kaggle/temp/, but they won't be saved outside of the current session"
   ]
  },
  {
   "cell_type": "code",
   "execution_count": 2,
   "metadata": {
    "_cell_guid": "79c7e3d0-c299-4dcb-8224-4455121ee9b0",
    "_uuid": "d629ff2d2480ee46fbb7e2d37f6b5fab8052498a",
    "execution": {
     "iopub.execute_input": "2020-10-05T16:52:13.057396Z",
     "iopub.status.busy": "2020-10-05T16:52:13.052700Z",
     "iopub.status.idle": "2020-10-05T16:52:13.058337Z",
     "shell.execute_reply": "2020-10-05T16:52:13.059075Z"
    },
    "papermill": {
     "duration": 0.03716,
     "end_time": "2020-10-05T16:52:13.059231",
     "exception": false,
     "start_time": "2020-10-05T16:52:13.022071",
     "status": "completed"
    },
    "tags": []
   },
   "outputs": [],
   "source": [
    "from tensorflow.keras.preprocessing.image import ImageDataGenerator\n",
    "\n",
    "batch_size = 32\n",
    "\n",
    "def generators(shape, preprocessing): \n",
    "    '''Create the training and validation datasets for \n",
    "    a given image shape.\n",
    "    '''\n",
    "    imgdatagen = ImageDataGenerator(\n",
    "        rescale=1./255,\n",
    "        rotation_range=20,\n",
    "        width_shift_range=0.2,\n",
    "        height_shift_range=0.2,\n",
    "        horizontal_flip=True,\n",
    "        fill_mode='nearest',\n",
    "        preprocessing_function = preprocessing,\n",
    "        validation_split = 0.1,\n",
    "    )\n",
    "    \n",
    "    \n",
    "    height, width = shape\n",
    "\n",
    "    train_dataset = imgdatagen.flow_from_directory(\n",
    "        '../input/hindiletters/Hindi letters/',\n",
    "        target_size = (height, width), \n",
    "        classes = ('ड', 'ढ', 'ई', 'झ', 'ङ', 'व', 'थ', 'भ', 'ब', 'ल', 'च',\n",
    "                   'ओ', 'औ', 'अ', 'ऋ', 'स', 'ए', 'प', 'ञ', 'फ', 'ध', 'ह',\n",
    "                   'ऊ', 'ज्ञ', 'ण', 'ज', 'आ', 'न', 'उ', 'क', 'म', 'ऐ', 'य', \n",
    "                   'ट', 'ग', 'घ', 'द', 'श', 'क्ष', 'र', 'त', 'ठ', 'ष', 'ख', 'त्र', 'इ', 'छ'),\n",
    "        batch_size = batch_size,\n",
    "        subset = 'training', \n",
    "    )\n",
    "\n",
    "    val_dataset = imgdatagen.flow_from_directory(\n",
    "        '../input/hindiletters/Hindi letters/',\n",
    "        target_size = (height, width), \n",
    "        classes = ('ड', 'ढ', 'ई', 'झ', 'ङ', 'व', 'थ', 'भ', 'ब', 'ल', 'च',\n",
    "                   'ओ', 'औ', 'अ', 'ऋ', 'स', 'ए', 'प', 'ञ', 'फ', 'ध', 'ह',\n",
    "                   'ऊ', 'ज्ञ', 'ण', 'ज', 'आ', 'न', 'उ', 'क', 'म', 'ऐ', 'य', \n",
    "                   'ट', 'ग', 'घ', 'द', 'श', 'क्ष', 'र', 'त', 'ठ', 'ष', 'ख', 'त्र', 'इ', 'छ'),\n",
    "        batch_size = batch_size,\n",
    "        subset = 'validation'\n",
    "    )\n",
    "    return train_dataset, val_dataset"
   ]
  },
  {
   "cell_type": "code",
   "execution_count": 3,
   "metadata": {
    "execution": {
     "iopub.execute_input": "2020-10-05T16:52:13.099940Z",
     "iopub.status.busy": "2020-10-05T16:52:13.099001Z",
     "iopub.status.idle": "2020-10-05T16:52:13.100907Z",
     "shell.execute_reply": "2020-10-05T16:52:13.101613Z"
    },
    "papermill": {
     "duration": 0.029125,
     "end_time": "2020-10-05T16:52:13.101800",
     "exception": false,
     "start_time": "2020-10-05T16:52:13.072675",
     "status": "completed"
    },
    "tags": []
   },
   "outputs": [],
   "source": [
    "vgg = keras.applications.vgg16"
   ]
  },
  {
   "cell_type": "code",
   "execution_count": 4,
   "metadata": {
    "execution": {
     "iopub.execute_input": "2020-10-05T16:52:13.151343Z",
     "iopub.status.busy": "2020-10-05T16:52:13.150364Z",
     "iopub.status.idle": "2020-10-05T16:52:13.668367Z",
     "shell.execute_reply": "2020-10-05T16:52:13.667717Z"
    },
    "papermill": {
     "duration": 0.553627,
     "end_time": "2020-10-05T16:52:13.668496",
     "exception": false,
     "start_time": "2020-10-05T16:52:13.114869",
     "status": "completed"
    },
    "tags": []
   },
   "outputs": [
    {
     "name": "stdout",
     "output_type": "stream",
     "text": [
      "Found 4240 images belonging to 47 classes.\n",
      "Found 468 images belonging to 47 classes.\n"
     ]
    }
   ],
   "source": [
    "train_dataset, val_dataset = generators((256,256), preprocessing=vgg.preprocess_input)"
   ]
  },
  {
   "cell_type": "code",
   "execution_count": 5,
   "metadata": {
    "execution": {
     "iopub.execute_input": "2020-10-05T16:52:13.703028Z",
     "iopub.status.busy": "2020-10-05T16:52:13.702275Z",
     "iopub.status.idle": "2020-10-05T16:52:17.243652Z",
     "shell.execute_reply": "2020-10-05T16:52:17.243095Z"
    },
    "papermill": {
     "duration": 3.562003,
     "end_time": "2020-10-05T16:52:17.243789",
     "exception": false,
     "start_time": "2020-10-05T16:52:13.681786",
     "status": "completed"
    },
    "tags": []
   },
   "outputs": [
    {
     "name": "stdout",
     "output_type": "stream",
     "text": [
      "Downloading data from https://storage.googleapis.com/tensorflow/keras-applications/vgg16/vgg16_weights_tf_dim_ordering_tf_kernels_notop.h5\n",
      "58892288/58889256 [==============================] - 1s 0us/step\n"
     ]
    }
   ],
   "source": [
    "vgg_conv = vgg.VGG16(weights='imagenet', include_top=False, input_shape=(256, 256, 3))"
   ]
  },
  {
   "cell_type": "code",
   "execution_count": 6,
   "metadata": {
    "execution": {
     "iopub.execute_input": "2020-10-05T16:52:17.281382Z",
     "iopub.status.busy": "2020-10-05T16:52:17.278835Z",
     "iopub.status.idle": "2020-10-05T16:52:17.286418Z",
     "shell.execute_reply": "2020-10-05T16:52:17.287261Z"
    },
    "papermill": {
     "duration": 0.028865,
     "end_time": "2020-10-05T16:52:17.287446",
     "exception": false,
     "start_time": "2020-10-05T16:52:17.258581",
     "status": "completed"
    },
    "tags": []
   },
   "outputs": [
    {
     "name": "stdout",
     "output_type": "stream",
     "text": [
      "<tensorflow.python.keras.engine.input_layer.InputLayer object at 0x7f4a35f3ccd0> False\n",
      "<tensorflow.python.keras.layers.convolutional.Conv2D object at 0x7f4a624f0bd0> False\n",
      "<tensorflow.python.keras.layers.convolutional.Conv2D object at 0x7f4a61c8ec90> False\n",
      "<tensorflow.python.keras.layers.pooling.MaxPooling2D object at 0x7f4a310e3390> False\n",
      "<tensorflow.python.keras.layers.convolutional.Conv2D object at 0x7f4a31105c10> False\n",
      "<tensorflow.python.keras.layers.convolutional.Conv2D object at 0x7f4a311053d0> False\n",
      "<tensorflow.python.keras.layers.pooling.MaxPooling2D object at 0x7f4a31112ed0> False\n",
      "<tensorflow.python.keras.layers.convolutional.Conv2D object at 0x7f4a30c3b150> False\n",
      "<tensorflow.python.keras.layers.convolutional.Conv2D object at 0x7f4a30c3ea10> False\n",
      "<tensorflow.python.keras.layers.convolutional.Conv2D object at 0x7f4a30c45ad0> False\n",
      "<tensorflow.python.keras.layers.pooling.MaxPooling2D object at 0x7f4a30c4db50> False\n",
      "<tensorflow.python.keras.layers.convolutional.Conv2D object at 0x7f4a30c4de10> False\n",
      "<tensorflow.python.keras.layers.convolutional.Conv2D object at 0x7f4a30c59690> False\n",
      "<tensorflow.python.keras.layers.convolutional.Conv2D object at 0x7f4a30c5b4d0> False\n",
      "<tensorflow.python.keras.layers.pooling.MaxPooling2D object at 0x7f4a30c63dd0> False\n",
      "<tensorflow.python.keras.layers.convolutional.Conv2D object at 0x7f4a30c64a10> True\n",
      "<tensorflow.python.keras.layers.convolutional.Conv2D object at 0x7f4a30c712d0> True\n",
      "<tensorflow.python.keras.layers.convolutional.Conv2D object at 0x7f4a30c75cd0> True\n",
      "<tensorflow.python.keras.layers.pooling.MaxPooling2D object at 0x7f4a30bf9090> True\n"
     ]
    }
   ],
   "source": [
    "# Freeze the layers except the last 4 layers\n",
    "for layer in vgg_conv.layers[:-4]:\n",
    "    layer.trainable = False\n",
    "\n",
    "# Check the trainable status of the individual layers\n",
    "for layer in vgg_conv.layers:\n",
    "    print(layer, layer.trainable)"
   ]
  },
  {
   "cell_type": "code",
   "execution_count": 7,
   "metadata": {
    "execution": {
     "iopub.execute_input": "2020-10-05T16:52:17.324534Z",
     "iopub.status.busy": "2020-10-05T16:52:17.323585Z",
     "iopub.status.idle": "2020-10-05T16:52:17.417809Z",
     "shell.execute_reply": "2020-10-05T16:52:17.417029Z"
    },
    "papermill": {
     "duration": 0.115779,
     "end_time": "2020-10-05T16:52:17.417917",
     "exception": false,
     "start_time": "2020-10-05T16:52:17.302138",
     "status": "completed"
    },
    "tags": []
   },
   "outputs": [
    {
     "name": "stdout",
     "output_type": "stream",
     "text": [
      "Model: \"sequential\"\n",
      "_________________________________________________________________\n",
      "Layer (type)                 Output Shape              Param #   \n",
      "=================================================================\n",
      "vgg16 (Functional)           (None, 8, 8, 512)         14714688  \n",
      "_________________________________________________________________\n",
      "flatten (Flatten)            (None, 32768)             0         \n",
      "_________________________________________________________________\n",
      "dense (Dense)                (None, 1024)              33555456  \n",
      "_________________________________________________________________\n",
      "dropout (Dropout)            (None, 1024)              0         \n",
      "_________________________________________________________________\n",
      "dense_1 (Dense)              (None, 47)                48175     \n",
      "=================================================================\n",
      "Total params: 48,318,319\n",
      "Trainable params: 40,683,055\n",
      "Non-trainable params: 7,635,264\n",
      "_________________________________________________________________\n"
     ]
    }
   ],
   "source": [
    "# Create the model\n",
    "model = keras.Sequential()\n",
    "\n",
    "# Add the vgg convolutional base model\n",
    "model.add(vgg_conv)\n",
    "\n",
    "# Add new layers\n",
    "model.add(keras.layers.Flatten())\n",
    "model.add(keras.layers.Dense(1024, activation='relu'))\n",
    "model.add(keras.layers.Dropout(0.5))\n",
    "model.add(keras.layers.Dense(47, activation='softmax'))\n",
    "\n",
    "# Show a summary of the model. Check the number of trainable parameters\n",
    "model.summary()"
   ]
  },
  {
   "cell_type": "code",
   "execution_count": 8,
   "metadata": {
    "execution": {
     "iopub.execute_input": "2020-10-05T16:52:17.456254Z",
     "iopub.status.busy": "2020-10-05T16:52:17.455238Z",
     "iopub.status.idle": "2020-10-05T17:19:47.495157Z",
     "shell.execute_reply": "2020-10-05T17:19:47.496119Z"
    },
    "papermill": {
     "duration": 1650.062658,
     "end_time": "2020-10-05T17:19:47.496287",
     "exception": false,
     "start_time": "2020-10-05T16:52:17.433629",
     "status": "completed"
    },
    "tags": []
   },
   "outputs": [
    {
     "name": "stdout",
     "output_type": "stream",
     "text": [
      "Epoch 1/20\n",
      "133/132 [==============================] - ETA: 0s - loss: 3.0546 - acc: 0.2000\n",
      "Epoch 00001: val_acc improved from -inf to 0.47650, saving model to ../working/model.h5\n",
      "133/132 [==============================] - 84s 635ms/step - loss: 3.0546 - acc: 0.2000 - val_loss: 1.7149 - val_acc: 0.4765\n",
      "Epoch 2/20\n",
      "133/132 [==============================] - ETA: 0s - loss: 1.1383 - acc: 0.6491\n",
      "Epoch 00002: val_acc improved from 0.47650 to 0.76923, saving model to ../working/model.h5\n",
      "133/132 [==============================] - 81s 613ms/step - loss: 1.1383 - acc: 0.6491 - val_loss: 0.7707 - val_acc: 0.7692\n",
      "Epoch 3/20\n",
      "133/132 [==============================] - ETA: 0s - loss: 0.4820 - acc: 0.8479\n",
      "Epoch 00003: val_acc improved from 0.76923 to 0.82906, saving model to ../working/model.h5\n",
      "133/132 [==============================] - 81s 608ms/step - loss: 0.4820 - acc: 0.8479 - val_loss: 0.5721 - val_acc: 0.8291\n",
      "Epoch 4/20\n",
      "133/132 [==============================] - ETA: 0s - loss: 0.2500 - acc: 0.9210\n",
      "Epoch 00004: val_acc improved from 0.82906 to 0.89957, saving model to ../working/model.h5\n",
      "133/132 [==============================] - 81s 611ms/step - loss: 0.2500 - acc: 0.9210 - val_loss: 0.2967 - val_acc: 0.8996\n",
      "Epoch 5/20\n",
      "133/132 [==============================] - ETA: 0s - loss: 0.1826 - acc: 0.9415\n",
      "Epoch 00005: val_acc did not improve from 0.89957\n",
      "133/132 [==============================] - 80s 601ms/step - loss: 0.1826 - acc: 0.9415 - val_loss: 0.4388 - val_acc: 0.8675\n",
      "Epoch 6/20\n",
      "133/132 [==============================] - ETA: 0s - loss: 0.1349 - acc: 0.9580\n",
      "Epoch 00006: val_acc improved from 0.89957 to 0.90812, saving model to ../working/model.h5\n",
      "133/132 [==============================] - 82s 615ms/step - loss: 0.1349 - acc: 0.9580 - val_loss: 0.3677 - val_acc: 0.9081\n",
      "Epoch 7/20\n",
      "133/132 [==============================] - ETA: 0s - loss: 0.1350 - acc: 0.9594\n",
      "Epoch 00007: val_acc did not improve from 0.90812\n",
      "133/132 [==============================] - 81s 610ms/step - loss: 0.1350 - acc: 0.9594 - val_loss: 0.3244 - val_acc: 0.9017\n",
      "Epoch 8/20\n",
      "133/132 [==============================] - ETA: 0s - loss: 0.0960 - acc: 0.9712\n",
      "Epoch 00008: val_acc improved from 0.90812 to 0.91880, saving model to ../working/model.h5\n",
      "133/132 [==============================] - 82s 613ms/step - loss: 0.0960 - acc: 0.9712 - val_loss: 0.2895 - val_acc: 0.9188\n",
      "Epoch 9/20\n",
      "133/132 [==============================] - ETA: 0s - loss: 0.0835 - acc: 0.9767\n",
      "Epoch 00009: val_acc improved from 0.91880 to 0.94017, saving model to ../working/model.h5\n",
      "133/132 [==============================] - 83s 628ms/step - loss: 0.0835 - acc: 0.9767 - val_loss: 0.2158 - val_acc: 0.9402\n",
      "Epoch 10/20\n",
      "133/132 [==============================] - ETA: 0s - loss: 0.0748 - acc: 0.9776\n",
      "Epoch 00010: val_acc did not improve from 0.94017\n",
      "133/132 [==============================] - 81s 608ms/step - loss: 0.0748 - acc: 0.9776 - val_loss: 0.2449 - val_acc: 0.9231\n",
      "Epoch 11/20\n",
      "133/132 [==============================] - ETA: 0s - loss: 0.0693 - acc: 0.9778\n",
      "Epoch 00011: val_acc did not improve from 0.94017\n",
      "133/132 [==============================] - 80s 604ms/step - loss: 0.0693 - acc: 0.9778 - val_loss: 0.2830 - val_acc: 0.9145\n",
      "Epoch 12/20\n",
      "133/132 [==============================] - ETA: 0s - loss: 0.0766 - acc: 0.9762\n",
      "Epoch 00012: val_acc did not improve from 0.94017\n",
      "133/132 [==============================] - 82s 614ms/step - loss: 0.0766 - acc: 0.9762 - val_loss: 0.2795 - val_acc: 0.9295\n",
      "Epoch 13/20\n",
      "133/132 [==============================] - ETA: 0s - loss: 0.0596 - acc: 0.9821\n",
      "Epoch 00013: val_acc did not improve from 0.94017\n",
      "133/132 [==============================] - 81s 607ms/step - loss: 0.0596 - acc: 0.9821 - val_loss: 0.2986 - val_acc: 0.9274\n",
      "Epoch 14/20\n",
      "133/132 [==============================] - ETA: 0s - loss: 0.0486 - acc: 0.9861\n",
      "Epoch 00014: val_acc did not improve from 0.94017\n",
      "133/132 [==============================] - 81s 611ms/step - loss: 0.0486 - acc: 0.9861 - val_loss: 0.2846 - val_acc: 0.9338\n",
      "Epoch 15/20\n",
      "133/132 [==============================] - ETA: 0s - loss: 0.0618 - acc: 0.9825\n",
      "Epoch 00015: val_acc did not improve from 0.94017\n",
      "133/132 [==============================] - 81s 612ms/step - loss: 0.0618 - acc: 0.9825 - val_loss: 0.4450 - val_acc: 0.9145\n",
      "Epoch 16/20\n",
      "133/132 [==============================] - ETA: 0s - loss: 0.0388 - acc: 0.9899\n",
      "Epoch 00016: val_acc did not improve from 0.94017\n",
      "133/132 [==============================] - 81s 606ms/step - loss: 0.0388 - acc: 0.9899 - val_loss: 0.3521 - val_acc: 0.9402\n",
      "Epoch 17/20\n",
      "133/132 [==============================] - ETA: 0s - loss: 0.0264 - acc: 0.9917\n",
      "Epoch 00017: val_acc improved from 0.94017 to 0.94231, saving model to ../working/model.h5\n",
      "133/132 [==============================] - 82s 620ms/step - loss: 0.0264 - acc: 0.9917 - val_loss: 0.2164 - val_acc: 0.9423\n",
      "Epoch 18/20\n",
      "133/132 [==============================] - ETA: 0s - loss: 0.0360 - acc: 0.9889\n",
      "Epoch 00018: val_acc did not improve from 0.94231\n",
      "133/132 [==============================] - 81s 608ms/step - loss: 0.0360 - acc: 0.9889 - val_loss: 0.2824 - val_acc: 0.9402\n",
      "Epoch 19/20\n",
      "133/132 [==============================] - ETA: 0s - loss: 0.0496 - acc: 0.9847\n",
      "Epoch 00019: val_acc improved from 0.94231 to 0.94872, saving model to ../working/model.h5\n",
      "133/132 [==============================] - 82s 617ms/step - loss: 0.0496 - acc: 0.9847 - val_loss: 0.1947 - val_acc: 0.9487\n",
      "Epoch 20/20\n",
      "133/132 [==============================] - ETA: 0s - loss: 0.0664 - acc: 0.9809\n",
      "Epoch 00020: val_acc did not improve from 0.94872\n",
      "133/132 [==============================] - 82s 619ms/step - loss: 0.0664 - acc: 0.9809 - val_loss: 0.2382 - val_acc: 0.9466\n"
     ]
    }
   ],
   "source": [
    "from keras.callbacks import ModelCheckpoint\n",
    "\n",
    "checkpoint = ModelCheckpoint(\"../working/model.h5\", monitor = 'val_acc', verbose=1, save_best_only=True, save_weights_only=False, mode='auto', period=1)\n",
    "# Compile the model\n",
    "model.compile(loss='categorical_crossentropy',\n",
    "              optimizer=keras.optimizers.Adam(lr=1e-4),\n",
    "              metrics=['acc'])\n",
    "# Train the model\n",
    "history = model.fit_generator(\n",
    "      train_dataset,\n",
    "      steps_per_epoch=train_dataset.samples/batch_size ,\n",
    "      epochs=20,\n",
    "      validation_data=val_dataset,\n",
    "      validation_steps=val_dataset.samples/batch_size,\n",
    "      verbose=1,\n",
    "      callbacks=[checkpoint])"
   ]
  },
  {
   "cell_type": "code",
   "execution_count": 9,
   "metadata": {
    "execution": {
     "iopub.execute_input": "2020-10-05T17:19:49.385914Z",
     "iopub.status.busy": "2020-10-05T17:19:49.378486Z",
     "iopub.status.idle": "2020-10-05T17:19:49.729224Z",
     "shell.execute_reply": "2020-10-05T17:19:49.729715Z"
    },
    "papermill": {
     "duration": 1.277674,
     "end_time": "2020-10-05T17:19:49.729846",
     "exception": false,
     "start_time": "2020-10-05T17:19:48.452172",
     "status": "completed"
    },
    "tags": []
   },
   "outputs": [
    {
     "data": {
      "text/plain": [
       "<matplotlib.legend.Legend at 0x7f49c41604d0>"
      ]
     },
     "execution_count": 9,
     "metadata": {},
     "output_type": "execute_result"
    },
    {
     "data": {
      "image/png": "[encoded data removed]",
      "text/plain": [
       "<Figure size 432x288 with 1 Axes>"
      ]
     },
     "metadata": {
      "needs_background": "light"
     },
     "output_type": "display_data"
    },
    {
     "data": {
      "image/png": "[encoded data removed]",
      "text/plain": [
       "<Figure size 432x288 with 1 Axes>"
      ]
     },
     "metadata": {
      "needs_background": "light"
     },
     "output_type": "display_data"
    }
   ],
   "source": [
    "acc = history.history['acc']\n",
    "val_acc = history.history['val_acc']\n",
    "loss = history.history['loss']\n",
    "val_loss = history.history['val_loss']\n",
    "epochs = range(1,len(acc)+1)\n",
    "plt.figure()\n",
    "plt.plot(epochs, acc, 'b', label = 'Training accuracy')\n",
    "plt.plot(epochs, val_acc, 'r', label='Validation accuracy')\n",
    "plt.title('Training and validation accuracy')\n",
    "plt.legend()\n",
    "# plt.savefig('Accuracy.jpg')\n",
    "plt.figure()\n",
    "plt.plot(epochs, loss, 'b', label = 'Training loss')\n",
    "plt.plot(epochs, val_loss, 'r', label='Validation loss')\n",
    "plt.title('Training and validation loss')\n",
    "plt.legend()\n",
    "# plt.savefig('Loss.jpg')\n"
   ]
  },
  {
   "cell_type": "code",
   "execution_count": null,
   "metadata": {
    "papermill": {
     "duration": 0.922429,
     "end_time": "2020-10-05T17:19:51.604706",
     "exception": false,
     "start_time": "2020-10-05T17:19:50.682277",
     "status": "completed"
    },
    "tags": []
   },
   "outputs": [],
   "source": []
  }
 ],
 "metadata": {
  "kernelspec": {
   "display_name": "Python 3",
   "language": "python",
   "name": "python3"
  },
  "language_info": {
   "codemirror_mode": {
    "name": "ipython",
    "version": 3
   },
   "file_extension": ".py",
   "mimetype": "text/x-python",
   "name": "python",
   "nbconvert_exporter": "python",
   "pygments_lexer": "ipython3",
   "version": "3.7.6"
  },
  "papermill": {
   "duration": 1669.530598,
   "end_time": "2020-10-05T17:19:53.603154",
   "environment_variables": {},
   "exception": null,
   "input_path": "__notebook__.ipynb",
   "output_path": "__notebook__.ipynb",
   "parameters": {},
   "start_time": "2020-10-05T16:52:04.072556",
   "version": "2.1.0"
  }
 },
 "nbformat": 4,
 "nbformat_minor": 4
}
