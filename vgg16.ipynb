{
 "cells": [
  {
   "cell_type": "code",
   "execution_count": 1,
   "metadata": {
    "_cell_guid": "b1076dfc-b9ad-4769-8c92-a6c4dae69d19",
    "_uuid": "8f2839f25d086af736a60e9eeb907d3b93b6e0e5"
   },
   "outputs": [
    {
     "name": "stdout",
     "output_type": "stream",
     "text": [
      "['testing', 'newhandwriting']\n"
     ]
    }
   ],
   "source": [
    "# This Python 3 environment comes with many helpful analytics libraries installed\n",
    "# It is defined by the kaggle/python Docker image: https://github.com/kaggle/docker-python\n",
    "# For example, here's several helpful packages to load\n",
    "\n",
    "import numpy as np # linear algebra\n",
    "import pandas as pd # data processing, CSV file I/O (e.g. pd.read_csv)\n",
    "\n",
    "# Input data files are available in the read-only \"../input/\" directory\n",
    "# For example, running this (by clicking run or pressing Shift+Enter) will list all files under the input directory\n",
    "import matplotlib.pyplot as plt\n",
    "import matplotlib.image as img\n",
    "import tensorflow.keras as keras\n",
    "import numpy as np\n",
    "\n",
    "\n",
    "import os\n",
    "print(os.listdir(\"../input/\"))\n",
    "# You can write up to 5GB to the current directory (/kaggle/working/) that gets preserved as output when you create a version using \"Save & Run All\" \n",
    "# You can also write temporary files to /kaggle/temp/, but they won't be saved outside of the current session"
   ]
  },
  {
   "cell_type": "code",
   "execution_count": 2,
   "metadata": {
    "_cell_guid": "79c7e3d0-c299-4dcb-8224-4455121ee9b0",
    "_uuid": "d629ff2d2480ee46fbb7e2d37f6b5fab8052498a"
   },
   "outputs": [],
   "source": [
    "from tensorflow.keras.preprocessing.image import ImageDataGenerator\n",
    "\n",
    "batch_size = 32\n",
    "\n",
    "def generators(shape, preprocessing): \n",
    "    '''Create the training and validation datasets for \n",
    "    a given image shape.\n",
    "    '''\n",
    "    imgdatagen = ImageDataGenerator(\n",
    "        rescale=1./255,\n",
    "        rotation_range=20,\n",
    "        width_shift_range=0.2,\n",
    "        height_shift_range=0.2,\n",
    "        horizontal_flip=True,\n",
    "        fill_mode='nearest',\n",
    "        preprocessing_function = preprocessing,\n",
    "        validation_split = 0.1,\n",
    "    )\n",
    "    \n",
    "    \n",
    "    height, width = shape\n",
    "\n",
    "    train_dataset = imgdatagen.flow_from_directory(\n",
    "        '../input/newhandwriting/generated/',\n",
    "        target_size = (height, width), \n",
    "        classes = ('0', '1', '2', '3', '4', '5', '6', '7', '8', '9'),\n",
    "        batch_size = batch_size,\n",
    "        subset = 'training', \n",
    "    )\n",
    "\n",
    "    val_dataset = imgdatagen.flow_from_directory(\n",
    "        '../input/newhandwriting/generated/',\n",
    "        target_size = (height, width), \n",
    "        classes = ('0', '1', '2', '3', '4', '5', '6', '7', '8', '9'),\n",
    "        batch_size = batch_size,\n",
    "        subset = 'validation'\n",
    "    )\n",
    "    return train_dataset, val_dataset"
   ]
  },
  {
   "cell_type": "code",
   "execution_count": 3,
   "metadata": {},
   "outputs": [],
   "source": [
    "vgg = keras.applications.vgg16"
   ]
  },
  {
   "cell_type": "code",
   "execution_count": 4,
   "metadata": {},
   "outputs": [
    {
     "name": "stdout",
     "output_type": "stream",
     "text": [
      "Found 6444 images belonging to 10 classes.\n",
      "Found 713 images belonging to 10 classes.\n"
     ]
    }
   ],
   "source": [
    "train_dataset, val_dataset = generators((224,224), preprocessing=vgg.preprocess_input)"
   ]
  },
  {
   "cell_type": "code",
   "execution_count": 5,
   "metadata": {},
   "outputs": [
    {
     "name": "stdout",
     "output_type": "stream",
     "text": [
      "Downloading data from https://github.com/fchollet/deep-learning-models/releases/download/v0.1/vgg16_weights_tf_dim_ordering_tf_kernels_notop.h5\n",
      "58892288/58889256 [==============================] - 1s 0us/step\n"
     ]
    }
   ],
   "source": [
    "vgg_conv = vgg.VGG16(weights='imagenet', include_top=False, input_shape=(224, 224, 3))"
   ]
  },
  {
   "cell_type": "code",
   "execution_count": 6,
   "metadata": {},
   "outputs": [
    {
     "name": "stdout",
     "output_type": "stream",
     "text": [
      "<tensorflow.python.keras.engine.input_layer.InputLayer object at 0x7f3aa2eabbd0> False\n",
      "<tensorflow.python.keras.layers.convolutional.Conv2D object at 0x7f3adc959e10> False\n",
      "<tensorflow.python.keras.layers.convolutional.Conv2D object at 0x7f3aa064d290> False\n",
      "<tensorflow.python.keras.layers.pooling.MaxPooling2D object at 0x7f3aa0618c10> False\n",
      "<tensorflow.python.keras.layers.convolutional.Conv2D object at 0x7f3aa0601e10> False\n",
      "<tensorflow.python.keras.layers.convolutional.Conv2D object at 0x7f3aa061a050> False\n",
      "<tensorflow.python.keras.layers.pooling.MaxPooling2D object at 0x7f3aa0638c50> False\n",
      "<tensorflow.python.keras.layers.convolutional.Conv2D object at 0x7f3aa061cc10> False\n",
      "<tensorflow.python.keras.layers.convolutional.Conv2D object at 0x7f3aa06205d0> False\n",
      "<tensorflow.python.keras.layers.convolutional.Conv2D object at 0x7f3aa0623150> False\n",
      "<tensorflow.python.keras.layers.pooling.MaxPooling2D object at 0x7f3aa0624d10> False\n",
      "<tensorflow.python.keras.layers.convolutional.Conv2D object at 0x7f3aa0603110> False\n",
      "<tensorflow.python.keras.layers.convolutional.Conv2D object at 0x7f3aa190ff90> False\n",
      "<tensorflow.python.keras.layers.convolutional.Conv2D object at 0x7f3aa1915c50> False\n",
      "<tensorflow.python.keras.layers.pooling.MaxPooling2D object at 0x7f3aa189eb50> False\n",
      "<tensorflow.python.keras.layers.convolutional.Conv2D object at 0x7f3aa1919250> True\n",
      "<tensorflow.python.keras.layers.convolutional.Conv2D object at 0x7f3aa18abb50> True\n",
      "<tensorflow.python.keras.layers.convolutional.Conv2D object at 0x7f3aa18b1fd0> True\n",
      "<tensorflow.python.keras.layers.pooling.MaxPooling2D object at 0x7f3aa18bae90> True\n"
     ]
    }
   ],
   "source": [
    "# Freeze the layers except the last 4 layers\n",
    "for layer in vgg_conv.layers[:-4]:\n",
    "    layer.trainable = False\n",
    "\n",
    "# Check the trainable status of the individual layers\n",
    "for layer in vgg_conv.layers:\n",
    "    print(layer, layer.trainable)"
   ]
  },
  {
   "cell_type": "code",
   "execution_count": 7,
   "metadata": {},
   "outputs": [
    {
     "name": "stdout",
     "output_type": "stream",
     "text": [
      "Model: \"sequential\"\n",
      "_________________________________________________________________\n",
      "Layer (type)                 Output Shape              Param #   \n",
      "=================================================================\n",
      "vgg16 (Model)                (None, 7, 7, 512)         14714688  \n",
      "_________________________________________________________________\n",
      "flatten (Flatten)            (None, 25088)             0         \n",
      "_________________________________________________________________\n",
      "dense (Dense)                (None, 1024)              25691136  \n",
      "_________________________________________________________________\n",
      "dropout (Dropout)            (None, 1024)              0         \n",
      "_________________________________________________________________\n",
      "dense_1 (Dense)              (None, 10)                10250     \n",
      "=================================================================\n",
      "Total params: 40,416,074\n",
      "Trainable params: 32,780,810\n",
      "Non-trainable params: 7,635,264\n",
      "_________________________________________________________________\n"
     ]
    }
   ],
   "source": [
    "# Create the model\n",
    "model = keras.Sequential()\n",
    "\n",
    "# Add the vgg convolutional base model\n",
    "model.add(vgg_conv)\n",
    "\n",
    "# Add new layers\n",
    "model.add(keras.layers.Flatten())\n",
    "model.add(keras.layers.Dense(1024, activation='relu'))\n",
    "model.add(keras.layers.Dropout(0.5))\n",
    "model.add(keras.layers.Dense(10, activation='softmax'))\n",
    "\n",
    "# Show a summary of the model. Check the number of trainable parameters\n",
    "model.summary()"
   ]
  },
  {
   "cell_type": "code",
   "execution_count": 8,
   "metadata": {},
   "outputs": [
    {
     "name": "stderr",
     "output_type": "stream",
     "text": [
      "Using TensorFlow backend.\n"
     ]
    },
    {
     "name": "stdout",
     "output_type": "stream",
     "text": [
      "Train for 201.375 steps, validate for 22.28125 steps\n",
      "Epoch 1/20\n",
      "201/201 [============================>.] - ETA: 0s - loss: 0.4640 - acc: 0.8350\n",
      "Epoch 00001: val_acc improved from -inf to 0.96634, saving model to ../working/model2.h5\n",
      "202/201 [==============================] - 119s 587ms/step - loss: 0.4618 - acc: 0.8358 - val_loss: 0.1068 - val_acc: 0.9663\n",
      "Epoch 2/20\n",
      "201/201 [============================>.] - ETA: 0s - loss: 0.0641 - acc: 0.9810\n",
      "Epoch 00002: val_acc improved from 0.96634 to 0.98177, saving model to ../working/model2.h5\n",
      "202/201 [==============================] - 102s 504ms/step - loss: 0.0640 - acc: 0.9811 - val_loss: 0.0479 - val_acc: 0.9818\n",
      "Epoch 3/20\n",
      "201/201 [============================>.] - ETA: 0s - loss: 0.0609 - acc: 0.9815\n",
      "Epoch 00003: val_acc improved from 0.98177 to 0.98457, saving model to ../working/model2.h5\n",
      "202/201 [==============================] - 108s 533ms/step - loss: 0.0611 - acc: 0.9814 - val_loss: 0.0441 - val_acc: 0.9846\n",
      "Epoch 4/20\n",
      "201/201 [============================>.] - ETA: 0s - loss: 0.0276 - acc: 0.9910\n",
      "Epoch 00004: val_acc improved from 0.98457 to 0.99579, saving model to ../working/model2.h5\n",
      "202/201 [==============================] - 105s 520ms/step - loss: 0.0277 - acc: 0.9908 - val_loss: 0.0282 - val_acc: 0.9958\n",
      "Epoch 5/20\n",
      "201/201 [============================>.] - ETA: 0s - loss: 0.0356 - acc: 0.9900\n",
      "Epoch 00005: val_acc did not improve from 0.99579\n",
      "202/201 [==============================] - 103s 511ms/step - loss: 0.0354 - acc: 0.9901 - val_loss: 0.0248 - val_acc: 0.9944\n",
      "Epoch 6/20\n",
      "201/201 [============================>.] - ETA: 0s - loss: 0.0256 - acc: 0.9913\n",
      "Epoch 00006: val_acc did not improve from 0.99579\n",
      "202/201 [==============================] - 102s 507ms/step - loss: 0.0259 - acc: 0.9912 - val_loss: 0.0437 - val_acc: 0.9846\n",
      "Epoch 7/20\n",
      "201/201 [============================>.] - ETA: 0s - loss: 0.0329 - acc: 0.9899\n",
      "Epoch 00007: val_acc did not improve from 0.99579\n",
      "202/201 [==============================] - 103s 512ms/step - loss: 0.0328 - acc: 0.9899 - val_loss: 0.0163 - val_acc: 0.9958\n",
      "Epoch 8/20\n",
      "201/201 [============================>.] - ETA: 0s - loss: 0.0228 - acc: 0.9930\n",
      "Epoch 00008: val_acc did not improve from 0.99579\n",
      "202/201 [==============================] - 104s 513ms/step - loss: 0.0232 - acc: 0.9929 - val_loss: 0.0131 - val_acc: 0.9930\n",
      "Epoch 9/20\n",
      "201/201 [============================>.] - ETA: 0s - loss: 0.0279 - acc: 0.9928\n",
      "Epoch 00009: val_acc did not improve from 0.99579\n",
      "202/201 [==============================] - 102s 504ms/step - loss: 0.0279 - acc: 0.9927 - val_loss: 0.0780 - val_acc: 0.9832\n",
      "Epoch 10/20\n",
      "201/201 [============================>.] - ETA: 0s - loss: 0.0191 - acc: 0.9947\n",
      "Epoch 00010: val_acc did not improve from 0.99579\n",
      "202/201 [==============================] - 104s 515ms/step - loss: 0.0190 - acc: 0.9947 - val_loss: 0.0133 - val_acc: 0.9944\n",
      "Epoch 11/20\n",
      "201/201 [============================>.] - ETA: 0s - loss: 0.0200 - acc: 0.9947\n",
      "Epoch 00011: val_acc improved from 0.99579 to 0.99719, saving model to ../working/model2.h5\n",
      "202/201 [==============================] - 105s 520ms/step - loss: 0.0199 - acc: 0.9947 - val_loss: 0.0065 - val_acc: 0.9972\n",
      "Epoch 12/20\n",
      "201/201 [============================>.] - ETA: 0s - loss: 0.0131 - acc: 0.9956\n",
      "Epoch 00012: val_acc did not improve from 0.99719\n",
      "202/201 [==============================] - 103s 512ms/step - loss: 0.0131 - acc: 0.9957 - val_loss: 0.0490 - val_acc: 0.9874\n",
      "Epoch 13/20\n",
      "201/201 [============================>.] - ETA: 0s - loss: 0.0142 - acc: 0.9956\n",
      "Epoch 00013: val_acc did not improve from 0.99719\n",
      "202/201 [==============================] - 102s 507ms/step - loss: 0.0146 - acc: 0.9955 - val_loss: 0.0707 - val_acc: 0.9818\n",
      "Epoch 14/20\n",
      "201/201 [============================>.] - ETA: 0s - loss: 0.0062 - acc: 0.9986\n",
      "Epoch 00014: val_acc did not improve from 0.99719\n",
      "202/201 [==============================] - 103s 508ms/step - loss: 0.0062 - acc: 0.9986 - val_loss: 0.0682 - val_acc: 0.9874\n",
      "Epoch 15/20\n",
      "201/201 [============================>.] - ETA: 0s - loss: 0.0201 - acc: 0.9958\n",
      "Epoch 00015: val_acc did not improve from 0.99719\n",
      "202/201 [==============================] - 103s 509ms/step - loss: 0.0200 - acc: 0.9958 - val_loss: 0.0100 - val_acc: 0.9958\n",
      "Epoch 16/20\n",
      "201/201 [============================>.] - ETA: 0s - loss: 0.0324 - acc: 0.9930\n",
      "Epoch 00016: val_acc did not improve from 0.99719\n",
      "202/201 [==============================] - 102s 504ms/step - loss: 0.0323 - acc: 0.9930 - val_loss: 0.0362 - val_acc: 0.9944\n",
      "Epoch 17/20\n",
      "201/201 [============================>.] - ETA: 0s - loss: 0.0115 - acc: 0.9967\n",
      "Epoch 00017: val_acc did not improve from 0.99719\n",
      "202/201 [==============================] - 102s 507ms/step - loss: 0.0114 - acc: 0.9967 - val_loss: 0.0172 - val_acc: 0.9930\n",
      "Epoch 18/20\n",
      "201/201 [============================>.] - ETA: 0s - loss: 0.0148 - acc: 0.9958\n",
      "Epoch 00018: val_acc did not improve from 0.99719\n",
      "202/201 [==============================] - 103s 508ms/step - loss: 0.0148 - acc: 0.9958 - val_loss: 0.0204 - val_acc: 0.9930\n",
      "Epoch 19/20\n",
      "201/201 [============================>.] - ETA: 0s - loss: 0.0159 - acc: 0.9959\n",
      "Epoch 00019: val_acc did not improve from 0.99719\n",
      "202/201 [==============================] - 102s 505ms/step - loss: 0.0158 - acc: 0.9960 - val_loss: 0.0289 - val_acc: 0.9902\n",
      "Epoch 20/20\n",
      "201/201 [============================>.] - ETA: 0s - loss: 0.0249 - acc: 0.9947\n",
      "Epoch 00020: val_acc improved from 0.99719 to 0.99860, saving model to ../working/model2.h5\n",
      "202/201 [==============================] - 103s 510ms/step - loss: 0.0249 - acc: 0.9947 - val_loss: 0.0061 - val_acc: 0.9986\n"
     ]
    }
   ],
   "source": [
    "from keras.callbacks import ModelCheckpoint\n",
    "\n",
    "checkpoint = ModelCheckpoint(\"../working/model2.h5\", monitor = 'val_acc', verbose=1, save_best_only=True, save_weights_only=False, mode='auto', period=1)\n",
    "# Compile the model\n",
    "model.compile(loss='categorical_crossentropy',\n",
    "              optimizer=keras.optimizers.Adam(lr=1e-4),\n",
    "              metrics=['acc'])\n",
    "# Train the model\n",
    "history = model.fit_generator(\n",
    "      train_dataset,\n",
    "      steps_per_epoch=train_dataset.samples/batch_size ,\n",
    "      epochs=20,\n",
    "      validation_data=val_dataset,\n",
    "      validation_steps=val_dataset.samples/batch_size,\n",
    "      verbose=1,\n",
    "      callbacks=[checkpoint])"
   ]
  },
  {
   "cell_type": "code",
   "execution_count": 9,
   "metadata": {},
   "outputs": [
    {
     "data": {
      "text/plain": [
       "<matplotlib.legend.Legend at 0x7f3633eea250>"
      ]
     },
     "execution_count": 9,
     "metadata": {},
     "output_type": "execute_result"
    },
    {
     "data": {
      "image/png": "[encoded data removed]",
      "text/plain": [
       "<Figure size 432x288 with 1 Axes>"
      ]
     },
     "metadata": {
      "needs_background": "light"
     },
     "output_type": "display_data"
    },
    {
     "data": {
      "image/png": "[encoded data removed]",
      "text/plain": [
       "<Figure size 432x288 with 1 Axes>"
      ]
     },
     "metadata": {
      "needs_background": "light"
     },
     "output_type": "display_data"
    }
   ],
   "source": [
    "acc = history.history['acc']\n",
    "val_acc = history.history['val_acc']\n",
    "loss = history.history['loss']\n",
    "val_loss = history.history['val_loss']\n",
    "epochs = range(1,len(acc)+1)\n",
    "plt.figure()\n",
    "plt.plot(epochs, acc, 'b', label = 'Training accuracy')\n",
    "plt.plot(epochs, val_acc, 'r', label='Validation accuracy')\n",
    "plt.title('Training and validation accuracy')\n",
    "plt.legend()\n",
    "# plt.savefig('Accuracy.jpg')\n",
    "plt.figure()\n",
    "plt.plot(epochs, loss, 'b', label = 'Training loss')\n",
    "plt.plot(epochs, val_loss, 'r', label='Validation loss')\n",
    "plt.title('Training and validation loss')\n",
    "plt.legend()\n",
    "# plt.savefig('Loss.jpg')\n"
   ]
  },
  {
   "cell_type": "code",
   "execution_count": 10,
   "metadata": {},
   "outputs": [
    {
     "name": "stdout",
     "output_type": "stream",
     "text": [
      "[0.0, 0.0, 0.0, 0.0, 1.0, 0.0, 0.0, 0.0, 0.0, 0.0]\n",
      "And the prediction is:\n",
      "4\n",
      "rghv23\n"
     ]
    }
   ],
   "source": [
    "import cv2\n",
    "import tensorflow as tf\n",
    "CATEGORIES = [\"0\", \"1\", \"2\", \"3\", \"4\", \"5\", \"6\", \"7\", \"8\", \"9\"]\n",
    "def prepare(file):\n",
    "    IMG_SIZE = 224\n",
    "    img_array = cv2.imread(file)\n",
    "    new_array = cv2.resize(img_array, (IMG_SIZE, IMG_SIZE),3)\n",
    "    return new_array.reshape(1,IMG_SIZE, IMG_SIZE,-1)\n",
    "model = tf.keras.models.load_model(\"../working/model2.h5\")\n",
    "image = prepare(\"../input/testing/testing/4_1.png\") #your image path\n",
    "\n",
    "# image = image.reshape(image.shape[0],224,224,3)\n",
    "# print(image.shape)\n",
    "prediction = model.predict([image])\n",
    "prediction = list(prediction[0])\n",
    "print(prediction)\n",
    "print(\"And the prediction is:\")\n",
    "result = CATEGORIES[prediction.index(max(prediction))]\n",
    "print(result)\n",
    "print(\"rghv23\")"
   ]
  },
  {
   "cell_type": "code",
   "execution_count": null,
   "metadata": {},
   "outputs": [],
   "source": []
  }
 ],
 "metadata": {
  "kernelspec": {
   "display_name": "Python 3",
   "language": "python",
   "name": "python3"
  },
  "language_info": {
   "codemirror_mode": {
    "name": "ipython",
    "version": 3
   },
   "file_extension": ".py",
   "mimetype": "text/x-python",
   "name": "python",
   "nbconvert_exporter": "python",
   "pygments_lexer": "ipython3",
   "version": "3.7.6"
  }
 },
 "nbformat": 4,
 "nbformat_minor": 4
}
